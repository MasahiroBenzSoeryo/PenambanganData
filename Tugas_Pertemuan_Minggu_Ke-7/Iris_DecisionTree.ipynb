{
 "cells": [
  {
   "cell_type": "code",
   "execution_count": 2,
   "id": "1347b8d3-6c5c-4b0e-b888-33cb0aec080b",
   "metadata": {},
   "outputs": [],
   "source": [
    "import numpy as np\n",
    "import pandas as pd\n",
    "from sklearn import tree"
   ]
  },
  {
   "cell_type": "code",
   "execution_count": 3,
   "id": "24ea8b5c-f0e3-4a78-a76c-72e82879b87c",
   "metadata": {},
   "outputs": [],
   "source": [
    "irisDataset = pd.read_csv('Dataset Iris.csv', delimiter=';', header=0)\n",
    "irisDataset[\"Species\"] = pd.factorize(irisDataset.Species)[0]\n",
    "irisDataset = irisDataset.drop(labels=\"Id\", axis=1)"
   ]
  },
  {
   "cell_type": "code",
   "execution_count": 4,
   "id": "2b6a3522-f56e-4240-a9bf-b3f0cbfce3e6",
   "metadata": {},
   "outputs": [],
   "source": [
    "irisDataset = irisDataset.to_numpy()"
   ]
  },
  {
   "cell_type": "code",
   "execution_count": 5,
   "id": "5441eb67-1052-477e-8bb1-723f268cb423",
   "metadata": {},
   "outputs": [],
   "source": [
    "dataTraining = np.concatenate((irisDataset[0:40, :],\n",
    "                               irisDataset[50:90, :]), axis=0)\n",
    "dataTesting = np.concatenate((irisDataset[40:50, :],\n",
    "                              irisDataset[90:100, :]), axis=0)\n",
    "inputTraining = dataTraining[:,0:4]\n",
    "inputTesting = dataTesting[:,0:4]\n",
    "labelTraining = dataTraining[:,4]\n",
    "labelTesting = dataTesting[:,4]"
   ]
  },
  {
   "cell_type": "code",
   "execution_count": 6,
   "id": "c98a89c6-07f4-4dab-8aa8-7a32821d39c8",
   "metadata": {},
   "outputs": [
    {
     "name": "stdout",
     "output_type": "stream",
     "text": [
      "label sebenarnya:  [0. 0. 0. 0. 0. 0. 0. 0. 0. 0. 1. 1. 1. 1. 1. 1. 1. 1. 1. 1.]\n",
      "hasil prediksi:  [0. 0. 0. 0. 0. 0. 0. 0. 0. 0. 1. 1. 1. 1. 1. 1. 1. 1. 1. 1.]\n",
      "prediksi benar:  20  data\n",
      "prediksi salah:  0  data\n",
      "akurasi:  100.0 %\n"
     ]
    }
   ],
   "source": [
    "model = tree.DecisionTreeClassifier()\n",
    "model = model.fit(inputTraining, labelTraining)\n",
    "hasilPrediksi = model.predict(inputTesting)\n",
    "print(\"label sebenarnya: \", labelTesting)\n",
    "print(\"hasil prediksi: \", hasilPrediksi)\n",
    "prediksiBenar = (hasilPrediksi == labelTesting).sum()\n",
    "prediksiSalah = (hasilPrediksi != labelTesting).sum()\n",
    "print(\"prediksi benar: \", prediksiBenar, \" data\")\n",
    "print(\"prediksi salah: \", prediksiSalah, \" data\")\n",
    "print(\"akurasi: \", prediksiBenar/(prediksiBenar+prediksiSalah) * 100, \"%\")"
   ]
  },
  {
   "cell_type": "code",
   "execution_count": null,
   "id": "85dcfeab-5a13-466d-9c5a-05763be3d5ee",
   "metadata": {},
   "outputs": [],
   "source": []
  }
 ],
 "metadata": {
  "kernelspec": {
   "display_name": "Python 3 (ipykernel)",
   "language": "python",
   "name": "python3"
  },
  "language_info": {
   "codemirror_mode": {
    "name": "ipython",
    "version": 3
   },
   "file_extension": ".py",
   "mimetype": "text/x-python",
   "name": "python",
   "nbconvert_exporter": "python",
   "pygments_lexer": "ipython3",
   "version": "3.11.7"
  }
 },
 "nbformat": 4,
 "nbformat_minor": 5
}
